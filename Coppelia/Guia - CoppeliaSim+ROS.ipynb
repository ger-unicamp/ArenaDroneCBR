{
 "cells": [
  {
   "cell_type": "markdown",
   "metadata": {},
   "source": [
    "Este caderno possui um guia para utilizar o CoppeliaSim junto do ROS, e como usar a simulação da arena da CBR do drone"
   ]
  },
  {
   "cell_type": "markdown",
   "metadata": {},
   "source": [
    "## Preparando o ambiente\n",
    "\n",
    "Primeiro, é preciso baixar o CoppeliaSim (https://www.coppeliarobotics.com/ubuntuVersions, versão Edu), e possuir o ROS instalado, junto de um workspace do catkin pronto.\n",
    "\n",
    "Após instalar os programas, copia o arquivo “libsimExtROSInterface.so” em \".../Copelia/compiledRosPlugins\" para a pasta \".../Copelia\". Clonar o repositório do pacote ROS para usar o simulador, instalar suas dependência e compilá-lo:\n"
   ]
  },
  {
   "cell_type": "code",
   "execution_count": null,
   "metadata": {},
   "outputs": [],
   "source": [
    "!cd ~/catkin/src #Utilizar o diretório do seu workspace\n",
    "!git clone https://github.com/CoppeliaRobotics/simExtROSInterface"
   ]
  },
  {
   "cell_type": "code",
   "execution_count": null,
   "metadata": {},
   "outputs": [],
   "source": [
    "#Executar em um terminal fora do notebook por conta da permissão de super usuário\n",
    "!sudo apt install xsltproc "
   ]
  },
  {
   "cell_type": "code",
   "execution_count": null,
   "metadata": {},
   "outputs": [],
   "source": [
    "!cd ..\n",
    "!catkin_make"
   ]
  },
  {
   "cell_type": "markdown",
   "metadata": {},
   "source": [
    "## Usando o ambiente\n",
    "\n",
    "Com isso, você deve estar pronto para usar o simulador junto do ROS. Para utilizar, o roscore deve ser executado antes do simulador, e esse deverá indicar no terminal que o plugin \"ROSInterface\" foi carregado (\"Plugin 'ROSInterface': load succeeded.)"
   ]
  },
  {
   "cell_type": "code",
   "execution_count": null,
   "metadata": {},
   "outputs": [],
   "source": [
    "#Executar em um terminal externo!\n",
    "cd \"Diretório do Copelia: .../Copelia\"\n",
    "./coppeliaSim.sh"
   ]
  },
  {
   "cell_type": "markdown",
   "metadata": {},
   "source": [
    "Para usar a arena, no canto superior esquerdo, vá para \"File/Open scene...\" e selecione o arquivo da arena \"Arena.ttt\". Ao iniciar a simulação (botão de play na barra superior), deve ser printado \"ROS interface was found\" na barra de status (parte inferior)."
   ]
  },
  {
   "cell_type": "markdown",
   "metadata": {},
   "source": [
    "## Tópicos\n",
    "\n",
    "Os sensores e atuadores do drone na simulação trabalham com os seguintes tópicos:\n",
    "\n",
    "#### Subscribers:\n",
    "\n",
    "* /motor/velocidade (std_msgs/Float32MultiArray): velocidades dos motores, em ordem horária do frontal esquerdo para o direito\n",
    "\n",
    "#### Publishers:\n",
    "\n",
    "* /camera_baixo/image (sensor_msgs/Image): imagem RGB da câmera de baixo\n",
    "* /camera_frontal/image (sensor_msgs/Image): imagem RGB da câmera frontal\n",
    "* /imu/barometer (sensor_msgs/FluidPressure): leitura do barõmetro da IMU (não implementado)\n",
    "* /imu/imu (sensor_msgs/Imu): leitura do acelerômetro e giroscópio\n",
    "* /imu/altitude (std_msgs/Float32): altitude medida pelo barômetro\n",
    "* /simu/pose_real (geometry_msgs/Pose): a pose real do drone"
   ]
  },
  {
   "cell_type": "markdown",
   "metadata": {},
   "source": [
    "## Exemplos\n",
    "\n",
    "Aqui seguem alguns exemplos para trabalhar com a simulação:"
   ]
  },
  {
   "cell_type": "code",
   "execution_count": 3,
   "metadata": {},
   "outputs": [],
   "source": [
    "import rospy\n",
    "import jupyros as jr\n",
    "\n",
    "from matplotlib import pyplot as plt\n",
    "import numpy as np\n",
    "\n",
    "import cv2\n",
    "from cv_bridge import CvBridge\n",
    "\n",
    "\n",
    "from sensor_msgs.msg import Imu\n",
    "from geometry_msgs.msg import Pose\n",
    "\n",
    "rospy.init_node(\"example\")\n",
    "\n",
    "def callback(msg):\n",
    "    print(msg)\n",
    "    \n",
    "def callbackImage(msg):\n",
    "    cv_image = jr.CvBridge.imgmsg_to_cv2(msg, \"bgr8\")\n",
    "    plt.imshow(cv_image)\n",
    "    "
   ]
  },
  {
   "cell_type": "code",
   "execution_count": 19,
   "metadata": {},
   "outputs": [
    {
     "name": "stderr",
     "output_type": "stream",
     "text": [
      "Removing previous callback, only one redirection possible right now\n"
     ]
    },
    {
     "data": {
      "application/vnd.jupyter.widget-view+json": {
       "model_id": "09985288df4547d0969e80c259e7c7ce",
       "version_major": 2,
       "version_minor": 0
      },
      "text/plain": [
       "VBox(children=(HBox(children=(Button(description='Stop', style=ButtonStyle()),)), Output(layout=Layout(border=…"
      ]
     },
     "metadata": {},
     "output_type": "display_data"
    }
   ],
   "source": [
    "#Recebe e imprime as leituras da IMU\n",
    "jr.subscribe(\"/imu/imu\", Imu, callback)"
   ]
  },
  {
   "cell_type": "code",
   "execution_count": 6,
   "metadata": {},
   "outputs": [
    {
     "data": {
      "application/vnd.jupyter.widget-view+json": {
       "model_id": "a69b4879bd6f4db2b79e6fc0b1c15b03",
       "version_major": 2,
       "version_minor": 0
      },
      "text/plain": [
       "VBox(children=(HBox(children=(Button(description='Stop', style=ButtonStyle()),)), Output(layout=Layout(border=…"
      ]
     },
     "metadata": {},
     "output_type": "display_data"
    }
   ],
   "source": [
    "#Recebe e imprime a pose real do drone\n",
    "jr.subscribe(\"/simu/pose_real\", Pose, callback)"
   ]
  },
  {
   "cell_type": "code",
   "execution_count": 29,
   "metadata": {},
   "outputs": [
    {
     "name": "stdout",
     "output_type": "stream",
     "text": [
      "publishing and latching message for 3.0 seconds\r\n"
     ]
    }
   ],
   "source": [
    "#Envia uma velocidade 10 para todos os motores (voa para cima sem parar)\n",
    "!rostopic pub -1 /motor/velocidade std_msgs/Float32MultiArray \"data: [10., 10.0, 10.0, 10.0]\""
   ]
  },
  {
   "cell_type": "code",
   "execution_count": null,
   "metadata": {},
   "outputs": [],
   "source": []
  }
 ],
 "metadata": {
  "kernelspec": {
   "display_name": "Python 3",
   "language": "python",
   "name": "python3"
  },
  "language_info": {
   "codemirror_mode": {
    "name": "ipython",
    "version": 3
   },
   "file_extension": ".py",
   "mimetype": "text/x-python",
   "name": "python",
   "nbconvert_exporter": "python",
   "pygments_lexer": "ipython3",
   "version": "3.7.5"
  }
 },
 "nbformat": 4,
 "nbformat_minor": 4
}
